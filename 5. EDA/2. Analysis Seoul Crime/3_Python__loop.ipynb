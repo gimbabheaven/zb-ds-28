{
  "nbformat": 4,
  "nbformat_minor": 0,
  "metadata": {
    "colab": {
      "provenance": []
    },
    "kernelspec": {
      "name": "python3",
      "display_name": "Python 3"
    },
    "language_info": {
      "name": "python"
    }
  },
  "cells": [
    {
      "cell_type": "markdown",
      "source": [
        "## Python 반복문"
      ],
      "metadata": {
        "id": "WlIUPqv8ienb"
      }
    },
    {
      "cell_type": "code",
      "source": [
        "# 간단한 for문 예제\n",
        "for n in [1, 2, 3, 4]:\n",
        "  print('Number is', n)"
      ],
      "metadata": {
        "colab": {
          "base_uri": "https://localhost:8080/"
        },
        "id": "n5UFb0l2ieWv",
        "outputId": "dbb90019-17ae-45fe-972b-f93a07b20fa8"
      },
      "execution_count": null,
      "outputs": [
        {
          "output_type": "stream",
          "name": "stdout",
          "text": [
            "Number is 1\n",
            "Number is 2\n",
            "Number is 3\n",
            "Number is 4\n"
          ]
        }
      ]
    },
    {
      "cell_type": "code",
      "execution_count": null,
      "metadata": {
        "colab": {
          "base_uri": "https://localhost:8080/"
        },
        "id": "zRf_cOj6idwv",
        "outputId": "5678a5fe-f582-4818-c947-920d163cc314"
      },
      "outputs": [
        {
          "output_type": "stream",
          "name": "stdout",
          "text": [
            "0\n",
            "1\n",
            "4\n",
            "9\n",
            "16\n",
            "25\n",
            "36\n",
            "49\n",
            "64\n",
            "81\n"
          ]
        }
      ],
      "source": [
        "for n in range (0, 10):\n",
        "  print(n ** 2)"
      ]
    },
    {
      "cell_type": "code",
      "source": [
        "# 위 코드를 한 줄로: list comprehension\n",
        "\n",
        "[n ** 2 for n in range(0, 10)]"
      ],
      "metadata": {
        "colab": {
          "base_uri": "https://localhost:8080/"
        },
        "id": "X1aeNqVQi8TQ",
        "outputId": "db27552f-cd97-4a32-f56d-ba0c2c28188e"
      },
      "execution_count": null,
      "outputs": [
        {
          "output_type": "execute_result",
          "data": {
            "text/plain": [
              "[0, 1, 4, 9, 16, 25, 36, 49, 64, 81]"
            ]
          },
          "metadata": {},
          "execution_count": 3
        }
      ]
    },
    {
      "cell_type": "markdown",
      "source": [
        "---"
      ],
      "metadata": {
        "id": "5MDpE0LtjDsC"
      }
    },
    {
      "cell_type": "markdown",
      "source": [
        "### Pandas에 잘 맞춰진 반복문용 명령(iterrows())\n",
        "- Pandas 데이터 프레임은 대부분 2차원\n",
        "- 이럴 때 for문을 사용하면, n번째라는 지점을 반복해서 가독률이 떨어짐\n",
        "- Pandas 데이터 프레임으로 반복문을 만들 때 iterrows() 옵션을 사용하면 편함\n",
        "- 받을 때, 인덱스와 내용으로 받는 것만 주의"
      ],
      "metadata": {
        "id": "ZhtCC0YLjPmv"
      }
    }
  ]
}